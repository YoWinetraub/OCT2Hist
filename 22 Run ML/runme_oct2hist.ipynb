{
 "cells": [
  {
   "cell_type": "markdown",
   "metadata": {},
   "source": [
    "#  Run OCT2Hist\n",
    "Run this notebook for generating pictures in the paper. Make sure you use 10x dataset. <br>\n",
    "This notebook is optimized for using pytorch (look at the environment on the top right). <br>\n",
    "This is the main folder path: [~/ml/](http://localhost:8888/tree/ml)<br>\n",
    "Image dataset is located here: [~/ml/dataset_oct_histology/](http://localhost:8888/tree/ml/dataset_oct_histology)<br>\n",
    "<br>\n",
    "\n",
    "We use the pix2pix adjusted model AKA oct2hist <br>\n",
    "\n",
    "## Setup"
   ]
  },
  {
   "cell_type": "code",
   "execution_count": null,
   "metadata": {},
   "outputs": [],
   "source": [
    "# Set up general varibles\n",
    "root_path = '~/ml/'\n",
    "dataset_path = root_path + 'dataset_oct_histology/'\n",
    "code_main_folder = root_path + 'oct2hist_model/'\n",
    "\n",
    "# Install environment dependencies\n",
    "!pip install --upgrade pip\n",
    "!pip install opencv-python\n",
    "\n",
    "# Install requirements\n",
    "!pip install -r {code_main_folder}requirements.txt"
   ]
  },
  {
   "cell_type": "markdown",
   "metadata": {},
   "source": [
    "## Build Dataset\n",
    "This library requires OCT and histology images to be paired together.<br>\n",
    "Code below merges images from  [patches_1024px_512px](http://localhost:8888/tree/ml/dataset_oct_histology/patches_1024px_512px) to [patches_1024px_512px_combined](http://localhost:8888/tree/ml/dataset_oct_histology/patches_1024px_512px_combined)"
   ]
  },
  {
   "cell_type": "code",
   "execution_count": null,
   "metadata": {},
   "outputs": [],
   "source": [
    "import image_combine_aux_functions\n",
    "\n",
    "# Define train & test patches folders\n",
    "train_patches_folder = dataset_path + 'patches_1024px_512px/'\n",
    "train_patches_folder_combined = train_patches_folder[:-1] + '_combined/'\n",
    "test_patches_folder = dataset_path + 'patches_1024px_512px/'\n",
    "test_patches_folder_combined = test_patches_folder[:-1] + '_combined/'\n",
    "\n",
    "# Generate combine train dataset of A and B\n",
    "image_combine_aux_functions.combine_images(\n",
    "    img_fold_A = (train_patches_folder + 'train_A/'),\n",
    "    img_fold_B = (train_patches_folder + 'train_B/'),\n",
    "    img_fold_AB = (train_patches_folder_combined + 'train/'))\n",
    "\n",
    "# Make sure that in train_patches_folder_combined there is no test folder.\n",
    "# This prevents mistake leakage of data.\n",
    "image_combine_aux_functions.clear_dir(train_patches_folder_combined + 'test/')"
   ]
  },
  {
   "cell_type": "markdown",
   "metadata": {},
   "source": [
    "## Train\n",
    "Run code below to train model.<br>\n",
    "Results can be viewed here: [~/ml/checkpoints/pix2pix/web/index.html](http://localhost:8888/view/ml/checkpoints/pix2pix/web/index.html) as the model trains.<br>"
   ]
  },
  {
   "cell_type": "code",
   "execution_count": null,
   "metadata": {},
   "outputs": [],
   "source": [
    "# Default setting includes flip which trains on left-right flips as well.\n",
    "#'--preprocess crop' allows user to load larger than 256X256 images and just randomly crop the right size for training.\n",
    "#  this is not as recommended because most of the crops will be just black with no information\n",
    "# If model is stuck, restart using --continue_train --epoch_count <number> to get numbering right.\n",
    "!python {code_main_folder}train.py --name pix2pix --dataroot {train_patches_folder_combined} --model pix2pix --checkpoints_dir {root_path}checkpoints"
   ]
  },
  {
   "cell_type": "markdown",
   "metadata": {},
   "source": [
    "## Test\n",
    "\n",
    "Main test results can be viewed here: [~/ml/results/pix2pix/test_latest/index.html](http://localhost:8888/view/ml/results/pix2pix/test_latest/index.html) after test command\n",
    "\n",
    "Latent space values are visible here: [~/ml/results/pix2pix/feats/center/](http://localhost:8888/tree/ml/results/pix2pix/feats/center/)\n"
   ]
  },
  {
   "cell_type": "code",
   "execution_count": null,
   "metadata": {},
   "outputs": [],
   "source": [
    "# Generate combine train dataset of A and B\n",
    "image_combine_aux_functions.combine_images(\n",
    "    img_fold_A = (test_patches_folder + 'test_A/'),\n",
    "    img_fold_B = (test_patches_folder + 'test_B/'),\n",
    "    img_fold_AB = (test_patches_folder_combined + 'test/'))\n",
    "\n",
    "# Main test results + weights at the center\n",
    "#  --preprocess none allows to directly process a non 256x256 images using the convolutional proprety of the network\n",
    "!python {code_main_folder}test.py --name pix2pix --dataroot {test_patches_folder_combined} --model pix2pix --checkpoints_dir {root_path}checkpoints --results_dir {root_path}results --num_test 10000\n",
    "\n",
    "# Generate images and features on the train dataset as well\n",
    "!python {code_main_folder}test.py --name pix2pix --dataroot {test_patches_folder_combined} --model pix2pix --checkpoints_dir {root_path}checkpoints --results_dir {root_path}results --num_test 10000 --phase train"
   ]
  }
 ],
 "metadata": {
  "kernelspec": {
   "display_name": "Environment (conda_aws_neuron_pytorch_p36)",
   "language": "python",
   "name": "conda_aws_neuron_pytorch_p36"
  },
  "language_info": {
   "codemirror_mode": {
    "name": "ipython",
    "version": 3
   },
   "file_extension": ".py",
   "mimetype": "text/x-python",
   "name": "python",
   "nbconvert_exporter": "python",
   "pygments_lexer": "ipython3",
   "version": "3.6.5"
  }
 },
 "nbformat": 4,
 "nbformat_minor": 2
}
